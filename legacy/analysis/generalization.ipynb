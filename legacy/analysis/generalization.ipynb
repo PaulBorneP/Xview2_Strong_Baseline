{
 "cells": [
  {
   "cell_type": "code",
   "execution_count": 1,
   "id": "3748e5d3-00b4-4891-994f-683094f9b51a",
   "metadata": {},
   "outputs": [],
   "source": [
    "import wandb\n",
    "import pandas as pd\n",
    "import numpy as np"
   ]
  },
  {
   "cell_type": "code",
   "execution_count": 7,
   "id": "0277f7c8-c654-4be1-bad6-9002ce9d48f9",
   "metadata": {},
   "outputs": [],
   "source": [
    "pd.set_option('display.float_format', lambda x: '%.5f' % x)"
   ]
  },
  {
   "cell_type": "code",
   "execution_count": 21,
   "id": "c9721bfc-9137-4f07-a7bd-91837f7b4283",
   "metadata": {},
   "outputs": [],
   "source": [
    "harmonic_mean = lambda xs: len(xs) / sum((x + 1e-6) ** -1 for x in xs)\n",
    "rm_disasters = [\"hurricane-matthew\", \"santa-rosa-wildfire\", \"palu-tsunami\"]\n",
    "rm_disasters_to_model_key = dict(zip(rm_disasters,[\"hurricane\", \"wildfire\", \"tsunami\"]))\n",
    "\n",
    "def get_df(run):\n",
    "    df = run.logged_artifacts()[0].get(\"per_image_metrics\")\n",
    "    df = pd.DataFrame(df.data, columns=df.columns)\n",
    "    return df\n",
    "\n",
    "def get_score_differences_on_subset_data(disaster_type):\n",
    "    \"\"\"\n",
    "    Get differences in mean score, damage and localisation f1 score between a run with and without a certain event of the given disaster type.\n",
    "    The evaluation is limited to images of type disaster_type.\n",
    "    \"\"\"\n",
    "    base_df = df_dict[\"base\"]\n",
    "    base_df_subset = base_df[base_df[\"pre_img\"].map(lambda s: s.find(disaster_type) != -1)]\n",
    "    base_metrics = base_df_subset[[\"score\", \"damage_f1\", \"localization_f1\"]].mean()\n",
    "\n",
    "    disaster_df = df_dict[disaster_type]\n",
    "    disaster_df_subset = disaster_df[disaster_df[\"pre_img\"].map(lambda s: s.find(disaster_type) != -1)]\n",
    "    disaster_metrics = disaster_df_subset[[\"score\", \"damage_f1\", \"localization_f1\"]].mean()\n",
    "\n",
    "    return (base_metrics-disaster_metrics)\n",
    "\n",
    "def compute_f1s(df):   \n",
    "    f1s = []\n",
    "    for tp_name in [\"lTP\", \"dTP1\", \"dTP2\", \"dTP3\", \"dTP4\"]:\n",
    "        fn_name = tp_name.replace(\"TP\", \"FN\")\n",
    "        fp_name = tp_name.replace(\"TP\", \"FP\")\n",
    "        tp = df[tp_name].sum()\n",
    "        if tp == 0:\n",
    "            precision = 0\n",
    "            recall = 0\n",
    "            f1 = 0\n",
    "        else:\n",
    "            precision = tp / (tp + df[fp_name].sum())\n",
    "            recall = tp / (tp + df[fn_name].sum())\n",
    "            f1 = 2*precision*recall / (precision + recall)\n",
    "        f1s.append(f1)\n",
    "    f1s.append(harmonic_mean(f1s[1:]))\n",
    "    result = pd.Series(data=f1s, index=[\"localization_f1\", \"damage_f1_no_damage\", \"damage_f1_minor_damage\", \"damage_f1_major_damage\", \"damage_f1_destroyed\", \"damage_f1\"])\n",
    "    result[\"score\"] = result[\"localization_f1\"] * 0.3 + result[\"damage_f1\"] * 0.7\n",
    "    return result\n",
    "\n",
    "def get_df_differences_on_subset_data(disaster_type):\n",
    "    \"\"\"\n",
    "    Get differences in mean score, damage and localisation f1 score between a run with and without a certain event of the given disaster type.\n",
    "    The evaluation is limited to images of type disaster_type.\n",
    "    \"\"\"\n",
    "    base_df = df_dict[\"base\"]\n",
    "    base_df_subset = base_df[base_df[\"pre_img\"].map(lambda s: s.find(disaster_type) != -1)]\n",
    "    base_df_f1s = compute_f1s(base_df_subset)\n",
    "\n",
    "    disaster_df = df_dict[disaster_type]\n",
    "    disaster_df_subset = disaster_df[disaster_df[\"pre_img\"].map(lambda s: s.find(disaster_type) != -1)]\n",
    "    disaster_df_f1s = compute_f1s(disaster_df_subset)\n",
    "\n",
    "    return (base_df_f1s-disaster_df_f1s)\n",
    "\n",
    "def get_f1s_on_removed_data(disaster_type):\n",
    "    \"\"\"\n",
    "    Get differences in mean score, damage and localisation f1 score between a run with and without a certain event of the given disaster type.\n",
    "    The evaluation is limited to images of type disaster_type.\n",
    "    \"\"\"\n",
    "    base_df = df_dict[\"base\"]\n",
    "    base_df_subset = base_df[base_df[\"pre_img\"].map(lambda s: s.find(disaster_type) != -1)]\n",
    "    base_df_f1s = compute_f1s(base_df_subset)\n",
    "\n",
    "    disaster_df = df_dict[rm_disasters_to_model_key[disaster_type]]\n",
    "    disaster_df_subset = disaster_df[disaster_df[\"pre_img\"].map(lambda s: s.find(disaster_type) != -1)]\n",
    "    disaster_df_f1s = compute_f1s(disaster_df_subset)\n",
    "\n",
    "    return base_df_f1s, disaster_df_f1s\n",
    "\n",
    "def get_df_differences_on_removed_data(disaster_type):\n",
    "    base_df_f1s, disaster_df_f1s = get_f1s_on_removed_data(disaster_type)\n",
    "    return base_df_f1s - disaster_df_f1s"
   ]
  },
  {
   "cell_type": "code",
   "execution_count": 3,
   "id": "6aed8abf-8039-4777-8cf4-d278f6d69340",
   "metadata": {},
   "outputs": [],
   "source": [
    "api = wandb.Api()\n",
    "base_run = api.run(\"sgerard/xview2_no1_solution/1vofuk9t\")\n",
    "wildfire_run = api.run(\"sgerard/xview2_no1_solution/3jj3528p\")\n",
    "hurricane_run = api.run(\"sgerard/xview2_no1_solution/1l5yb33b\")\n",
    "tsunami_run = api.run(\"sgerard/xview2_no1_solution/24f7j1fg\")\n",
    "\n",
    "run_dict = {\"base\":base_run, \"hurricane\":hurricane_run, \"tsunami\":tsunami_run, \"wildfire\":wildfire_run}\n",
    "df_dict = {name:get_df(run) for name, run in run_dict.items()}"
   ]
  },
  {
   "cell_type": "code",
   "execution_count": 20,
   "id": "f868a18d-bd54-4213-a80f-eabbdee840b3",
   "metadata": {},
   "outputs": [
    {
     "name": "stdout",
     "output_type": "stream",
     "text": [
      "base \n",
      "\n",
      " localization_f1          0.86454\n",
      "damage_f1_no_damage      0.90769\n",
      "damage_f1_minor_damage   0.49109\n",
      "damage_f1_major_damage   0.68861\n",
      "damage_f1_destroyed      0.80971\n",
      "damage_f1                0.68667\n",
      "score                    0.74003\n",
      "dtype: float64 \n",
      "\n",
      "hurricane \n",
      "\n",
      " localization_f1          0.86410\n",
      "damage_f1_no_damage      0.90413\n",
      "damage_f1_minor_damage   0.34079\n",
      "damage_f1_major_damage   0.71418\n",
      "damage_f1_destroyed      0.80168\n",
      "damage_f1                0.59809\n",
      "score                    0.67789\n",
      "dtype: float64 \n",
      "\n",
      "wildfire \n",
      "\n",
      " localization_f1          0.86313\n",
      "damage_f1_no_damage      0.90992\n",
      "damage_f1_minor_damage   0.48106\n",
      "damage_f1_major_damage   0.70962\n",
      "damage_f1_destroyed      0.80587\n",
      "damage_f1                0.68636\n",
      "score                    0.73939\n",
      "dtype: float64 \n",
      "\n",
      "tsunami \n",
      "\n",
      " localization_f1          0.86547\n",
      "damage_f1_no_damage      0.90212\n",
      "damage_f1_minor_damage   0.45221\n",
      "damage_f1_major_damage   0.63013\n",
      "damage_f1_destroyed      0.77551\n",
      "damage_f1                0.64555\n",
      "score                    0.71152\n",
      "dtype: float64 \n",
      "\n"
     ]
    }
   ],
   "source": [
    "for disaster_type in [\"base\", \"hurricane\", \"wildfire\", \"tsunami\"]:\n",
    "    print(disaster_type, \"\\n\\n\", compute_f1s(df_dict[disaster_type]), \"\\n\")"
   ]
  },
  {
   "cell_type": "code",
   "execution_count": 15,
   "id": "6adc4d93-465b-4e32-8ee0-9f17bd7c93af",
   "metadata": {},
   "outputs": [
    {
     "name": "stdout",
     "output_type": "stream",
     "text": [
      "hurricane \n",
      " localization_f1           0.00154\n",
      "damage_f1_no_damage      -0.00163\n",
      "damage_f1_minor_damage    0.15334\n",
      "damage_f1_major_damage   -0.02804\n",
      "damage_f1_destroyed       0.01569\n",
      "damage_f1                 0.06177\n",
      "score                     0.04370\n",
      "dtype: float64 \n",
      "\n",
      "wildfire \n",
      " localization_f1           0.01166\n",
      "damage_f1_no_damage       0.01953\n",
      "damage_f1_minor_damage   -0.00133\n",
      "damage_f1_major_damage   -0.00863\n",
      "damage_f1_destroyed       0.01731\n",
      "damage_f1                -0.00459\n",
      "score                     0.00029\n",
      "dtype: float64 \n",
      "\n",
      "tsunami \n",
      " localization_f1          0.00577\n",
      "damage_f1_no_damage      0.03208\n",
      "damage_f1_minor_damage   0.00000\n",
      "damage_f1_major_damage   0.11845\n",
      "damage_f1_destroyed      0.11128\n",
      "damage_f1                0.00000\n",
      "score                    0.00173\n",
      "dtype: float64 \n",
      "\n"
     ]
    }
   ],
   "source": [
    "for disaster_type in [\"hurricane\", \"wildfire\", \"tsunami\"]:\n",
    "    print(disaster_type, \"\\n\", get_df_differences_on_subset_data(disaster_type), \"\\n\")"
   ]
  },
  {
   "cell_type": "code",
   "execution_count": 22,
   "id": "d68570b1-6504-46db-b84e-3f5903efbd00",
   "metadata": {},
   "outputs": [
    {
     "name": "stdout",
     "output_type": "stream",
     "text": [
      "hurricane-matthew \n",
      " localization_f1          0.04402\n",
      "damage_f1_no_damage      0.09674\n",
      "damage_f1_minor_damage   0.68684\n",
      "damage_f1_major_damage   0.23633\n",
      "damage_f1_destroyed      0.09378\n",
      "damage_f1                0.38664\n",
      "score                    0.28385\n",
      "dtype: float64 \n",
      "\n",
      "santa-rosa-wildfire \n",
      " localization_f1           0.01166\n",
      "damage_f1_no_damage       0.01953\n",
      "damage_f1_minor_damage   -0.00133\n",
      "damage_f1_major_damage   -0.00863\n",
      "damage_f1_destroyed       0.01731\n",
      "damage_f1                -0.00459\n",
      "score                     0.00029\n",
      "dtype: float64 \n",
      "\n",
      "palu-tsunami \n",
      " localization_f1          0.00577\n",
      "damage_f1_no_damage      0.03208\n",
      "damage_f1_minor_damage   0.00000\n",
      "damage_f1_major_damage   0.11845\n",
      "damage_f1_destroyed      0.11128\n",
      "damage_f1                0.00000\n",
      "score                    0.00173\n",
      "dtype: float64 \n",
      "\n"
     ]
    }
   ],
   "source": [
    "for disaster_type in [\"hurricane-matthew\", \"santa-rosa-wildfire\", \"palu-tsunami\"]:\n",
    "    print(disaster_type, \"\\n\", get_df_differences_on_removed_data(disaster_type), \"\\n\")"
   ]
  },
  {
   "cell_type": "code",
   "execution_count": 43,
   "id": "1c10c5ad-0dfc-438b-8177-90ce3d492fd3",
   "metadata": {},
   "outputs": [],
   "source": [
    "# get individual metrics for Josephine\n",
    "\n",
    "per_event_dfs = []\n",
    "for disaster_type in [\"hurricane-matthew\", \"santa-rosa-wildfire\", \"palu-tsunami\"]:\n",
    "    base_f1s, disaster_f1s = get_f1s_on_removed_data(disaster_type)\n",
    "    base_f1s = base_f1s.rename(lambda name: name + \"_base\")\n",
    "    disaster_f1s = disaster_f1s.rename(lambda name: name + \"_disaster\")\n",
    "    merged_f1s = pd.concat([base_f1s, disaster_f1s])\n",
    "    merged_f1s[\"compared_on\"] = disaster_type\n",
    "    per_event_dfs.append(merged_f1s)"
   ]
  },
  {
   "cell_type": "code",
   "execution_count": 47,
   "id": "219c223f-0016-4d10-9cc5-49de861e59dc",
   "metadata": {},
   "outputs": [],
   "source": [
    "pd.DataFrame(per_event_dfs).to_csv(\"metrics_per_disaster_event.csv\", index=False)"
   ]
  },
  {
   "cell_type": "code",
   "execution_count": 48,
   "id": "02a7e03e-1b99-487c-9d5b-bcdcbe2a99db",
   "metadata": {},
   "outputs": [
    {
     "data": {
      "text/plain": [
       "[localization_f1_base                         0.77198\n",
       " damage_f1_no_damage_base                     0.36314\n",
       " damage_f1_minor_damage_base                  0.69187\n",
       " damage_f1_major_damage_base                  0.26517\n",
       " damage_f1_destroyed_base                     0.51368\n",
       " damage_f1_base                               0.40335\n",
       " score_base                                   0.51394\n",
       " localization_f1_disaster                     0.72797\n",
       " damage_f1_no_damage_disaster                 0.26639\n",
       " damage_f1_minor_damage_disaster              0.00503\n",
       " damage_f1_major_damage_disaster              0.02885\n",
       " damage_f1_destroyed_disaster                 0.41991\n",
       " damage_f1_disaster                           0.01671\n",
       " score_disaster                               0.23009\n",
       " compared_on                        hurricane-matthew\n",
       " dtype: object,\n",
       " localization_f1_base                           0.88001\n",
       " damage_f1_no_damage_base                       0.94838\n",
       " damage_f1_minor_damage_base                    0.00000\n",
       " damage_f1_major_damage_base                    0.00000\n",
       " damage_f1_destroyed_base                       0.94050\n",
       " damage_f1_base                                 0.00000\n",
       " score_base                                     0.26400\n",
       " localization_f1_disaster                       0.86834\n",
       " damage_f1_no_damage_disaster                   0.92884\n",
       " damage_f1_minor_damage_disaster                0.00133\n",
       " damage_f1_major_damage_disaster                0.00863\n",
       " damage_f1_destroyed_disaster                   0.92319\n",
       " damage_f1_disaster                             0.00459\n",
       " score_disaster                                 0.26372\n",
       " compared_on                        santa-rosa-wildfire\n",
       " dtype: object,\n",
       " localization_f1_base                    0.89331\n",
       " damage_f1_no_damage_base                0.95413\n",
       " damage_f1_minor_damage_base             0.00000\n",
       " damage_f1_major_damage_base             0.28672\n",
       " damage_f1_destroyed_base                0.85324\n",
       " damage_f1_base                          0.00000\n",
       " score_base                              0.26800\n",
       " localization_f1_disaster                0.88754\n",
       " damage_f1_no_damage_disaster            0.92205\n",
       " damage_f1_minor_damage_disaster         0.00000\n",
       " damage_f1_major_damage_disaster         0.16827\n",
       " damage_f1_destroyed_disaster            0.74197\n",
       " damage_f1_disaster                      0.00000\n",
       " score_disaster                          0.26626\n",
       " compared_on                        palu-tsunami\n",
       " dtype: object]"
      ]
     },
     "execution_count": 48,
     "metadata": {},
     "output_type": "execute_result"
    }
   ],
   "source": [
    "per_event_dfs"
   ]
  },
  {
   "cell_type": "code",
   "execution_count": 30,
   "id": "83431e28-c0d9-4e3d-8329-5e79957c5852",
   "metadata": {},
   "outputs": [
    {
     "data": {
      "text/plain": [
       "['localization_f1_base',\n",
       " 'damage_f1_no_damage_base',\n",
       " 'damage_f1_minor_damage_base',\n",
       " 'damage_f1_major_damage_base',\n",
       " 'damage_f1_destroyed_base',\n",
       " 'damage_f1_base',\n",
       " 'score_base',\n",
       " 'compared_on_base']"
      ]
     },
     "execution_count": 30,
     "metadata": {},
     "output_type": "execute_result"
    }
   ],
   "source": [
    "[name + \"_base\" for name in base_f1s.index]"
   ]
  },
  {
   "cell_type": "code",
   "execution_count": 37,
   "id": "0cda0162-46a7-4505-b916-840342ea098e",
   "metadata": {},
   "outputs": [],
   "source": [
    "res = get_df_differences_on_subset_data(\"tsunami\")"
   ]
  },
  {
   "cell_type": "code",
   "execution_count": 38,
   "id": "aa048b6a-3ad0-4f71-9861-eed312e72a35",
   "metadata": {},
   "outputs": [
    {
     "data": {
      "text/plain": [
       "pandas.core.series.Series"
      ]
     },
     "execution_count": 38,
     "metadata": {},
     "output_type": "execute_result"
    }
   ],
   "source": [
    "type(res)"
   ]
  }
 ],
 "metadata": {
  "kernelspec": {
   "display_name": "Python 3",
   "language": "python",
   "name": "python3"
  },
  "language_info": {
   "codemirror_mode": {
    "name": "ipython",
    "version": 3
   },
   "file_extension": ".py",
   "mimetype": "text/x-python",
   "name": "python",
   "nbconvert_exporter": "python",
   "pygments_lexer": "ipython3",
   "version": "3.9.2"
  }
 },
 "nbformat": 4,
 "nbformat_minor": 5
}
